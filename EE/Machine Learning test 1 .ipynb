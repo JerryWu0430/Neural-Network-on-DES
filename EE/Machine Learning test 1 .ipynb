{
 "cells": [
  {
   "cell_type": "code",
   "execution_count": 1,
   "id": "86dc6033",
   "metadata": {},
   "outputs": [],
   "source": [
    "import pandas as pd  \n",
    "import sys\n",
    "import numpy as np\n",
    "import os\n",
    "\n",
    "#Common Model Algorithms\n",
    "from sklearn import svm, tree, linear_model, neighbors, naive_bayes, ensemble, discriminant_analysis, gaussian_process\n",
    "\n",
    "#Common Model Helpers\n",
    "from sklearn.preprocessing import OneHotEncoder, LabelEncoder\n",
    "from sklearn import feature_selection\n",
    "from sklearn import model_selection\n",
    "from sklearn import metrics\n",
    "\n",
    "#Visualization\n",
    "import matplotlib as mpl\n",
    "import matplotlib.pyplot as plt\n",
    "import matplotlib.pylab as pylab\n",
    "import seaborn as sns\n",
    "\n",
    "from pandas.plotting import scatter_matrix\n",
    "\n",
    "#Configure Visualization Defaults\n",
    "#%matplotlib inline = show plots in Jupyter Notebook browser\n",
    "#%matplotlib inline\n",
    "mpl.style.use('ggplot')\n",
    "sns.set_style('white')\n",
    "pylab.rcParams['figure.figsize'] = 12,8"
   ]
  },
  {
   "cell_type": "code",
   "execution_count": 2,
   "id": "861601d5",
   "metadata": {},
   "outputs": [],
   "source": [
    "from sklearn.model_selection import train_test_split\n",
    "#import data\n",
    "dataset = pd.read_csv('real.csv')\n",
    "data = dataset[['1','2']]\n",
    "x = list(data['1'])\n",
    "y = list(data['2'])\n",
    "\n",
    "x = np.asarray(x).astype(str)\n",
    "y = np.asarray(y).astype(str)\n",
    "\n",
    "x_train, x_test, y_train, y_test = train_test_split(x,y, test_size=0.2, random_state=43)"
   ]
  },
  {
   "cell_type": "code",
   "execution_count": 3,
   "id": "b7fd2dde",
   "metadata": {},
   "outputs": [],
   "source": [
    "new  = []\n",
    "new2 = []\n",
    "new3  = []\n",
    "new4 = []\n",
    "\n",
    "#converting the 64-bit into an array with 64 items \n",
    "for i in range(len(x_train)):\n",
    "    new.append(list(map(int,x_train[i])))\n",
    "    new2.append(list(map(int,y_train[i])))\n",
    "\n",
    "for j in range(len(x_test)):\n",
    "    new3.append(list(map(int,x_test[j])))\n",
    "    new4.append(list(map(int,y_test[j])))\n",
    "\n",
    "x_train = np.asarray(new).astype(int)\n",
    "y_train = np.asarray(new2).astype(int)\n",
    "x_test = np.asarray(new3).astype(int)\n",
    "y_test = np.asarray(new4).astype(int)"
   ]
  },
  {
   "cell_type": "code",
   "execution_count": 7,
   "id": "2e85f931",
   "metadata": {},
   "outputs": [
    {
     "name": "stdout",
     "output_type": "stream",
     "text": [
      "Model: \"sequential_2\"\n",
      "_________________________________________________________________\n",
      " Layer (type)                Output Shape              Param #   \n",
      "=================================================================\n",
      " dense_5 (Dense)             (None, 64)                4160      \n",
      "                                                                 \n",
      " dense_6 (Dense)             (None, 128)               8320      \n",
      "                                                                 \n",
      " dense_7 (Dense)             (None, 256)               33024     \n",
      "                                                                 \n",
      " dense_8 (Dense)             (None, 256)               65792     \n",
      "                                                                 \n",
      " dense_9 (Dense)             (None, 128)               32896     \n",
      "                                                                 \n",
      " dense_10 (Dense)            (None, 64)                8256      \n",
      "                                                                 \n",
      "=================================================================\n",
      "Total params: 152,448\n",
      "Trainable params: 152,448\n",
      "Non-trainable params: 0\n",
      "_________________________________________________________________\n"
     ]
    },
    {
     "name": "stderr",
     "output_type": "stream",
     "text": [
      "2022-09-03 16:53:45.771234: W tensorflow/core/platform/profile_utils/cpu_utils.cc:128] Failed to get CPU frequency: 0 Hz\n",
      "2022-09-03 16:53:46.184638: I tensorflow/core/grappler/optimizers/custom_graph_optimizer_registry.cc:113] Plugin optimizer for device_type GPU is enabled.\n"
     ]
    },
    {
     "name": "stdout",
     "output_type": "stream",
     "text": [
      "1526/1526 [==============================] - 14s 8ms/step - loss: 0.2493 - binary_accuracy: 0.6699\n"
     ]
    },
    {
     "data": {
      "text/plain": [
       "<keras.callbacks.History at 0x143112280>"
      ]
     },
     "execution_count": 7,
     "metadata": {},
     "output_type": "execute_result"
    }
   ],
   "source": [
    "import tensorflow as tf\n",
    "from tensorflow import keras\n",
    "from tensorflow.keras.models import Sequential\n",
    "from tensorflow.keras.layers import Dense\n",
    "from tensorflow.keras.models import Model\n",
    "from tensorflow.keras.optimizers import Adam\n",
    "from tensorflow.keras.layers import concatenate\n",
    "from tensorflow.keras.losses import BinaryCrossentropy\n",
    "from tensorflow.keras.metrics import BinaryAccuracy\n",
    "\n",
    "\n",
    "model = keras.Sequential()\n",
    "model.add(Dense(64,input_shape=(64,)))\n",
    "model.add(Dense(128,activation=\"relu\"))\n",
    "model.add(Dense(256,activation=\"relu\"))\n",
    "model.add(Dense(256,activation=\"relu\"))\n",
    "model.add(Dense(128,activation=\"relu\"))\n",
    "model.add(Dense(64,activation=\"relu\"))\n",
    "\n",
    "\n",
    "model.summary()\n",
    "model.compile(optimizer=\"Adam\",loss=\"mse\",metrics=\"binary_accuracy\")\n",
    "model.fit(x_train,y_train,epochs=200)\n"
   ]
  }
 ],
 "metadata": {
  "kernelspec": {
   "display_name": "Python 3.8.13 ('mlp')",
   "language": "python",
   "name": "python3"
  },
  "language_info": {
   "codemirror_mode": {
    "name": "ipython",
    "version": 3
   },
   "file_extension": ".py",
   "mimetype": "text/x-python",
   "name": "python",
   "nbconvert_exporter": "python",
   "pygments_lexer": "ipython3",
   "version": "3.8.13"
  },
  "vscode": {
   "interpreter": {
    "hash": "93e583137a0f14c290467cebcfe5e426055eea346434718f1ad141c050cc5afb"
   }
  }
 },
 "nbformat": 4,
 "nbformat_minor": 5
}
