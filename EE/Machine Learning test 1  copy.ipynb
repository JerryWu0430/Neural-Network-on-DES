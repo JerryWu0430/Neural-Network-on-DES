{
 "cells": [
  {
   "cell_type": "code",
   "execution_count": 1,
   "id": "86dc6033",
   "metadata": {},
   "outputs": [],
   "source": [
    "#useful libraries\n",
    "import sys\n",
    "import numpy as np\n",
    "import os\n",
    "import pandas as pd  \n",
    "\n",
    "#Common Model Helpers\n",
    "from sklearn.neural_network import MLPClassifier\n",
    "from sklearn.metrics import classification_report, confusion_matrix, precision_score, hamming_loss, roc_curve,average_precision_score\n",
    "from sklearn.metrics import plot_confusion_matrix, auc,roc_curve, log_loss, f1_score, matthews_corrcoef\n",
    "from sklearn.model_selection import train_test_split\n",
    "\n",
    "#Visualization\n",
    "import seaborn as sn\n",
    "import matplotlib as mpl\n",
    "import matplotlib.pyplot as plt\n",
    "import matplotlib.pylab as pylab\n",
    "from pandas.plotting import scatter_matrix\n",
    "\n",
    "#pickle to save model\n",
    "import pickle\n",
    "from joblib import dump, load\n",
    "\n",
    "mpl.style.use('ggplot')\n",
    "sn.set_style('white')\n",
    "sn.set(font_scale=1.4)\n",
    "pylab.rcParams['figure.figsize'] = 12,8"
   ]
  },
  {
   "cell_type": "code",
   "execution_count": 2,
   "id": "5882234c",
   "metadata": {},
   "outputs": [],
   "source": [
    "#import data\n",
    "dataset = pd.read_csv('real.csv')\n",
    "data = dataset[['1','2']]\n",
    "x = list(data['1'])\n",
    "y = list(data['2'])\n",
    "\n",
    "x = np.asarray(x).astype(str)\n",
    "y = np.asarray(y).astype(str)\n",
    "\n",
    "#splitting dataset\n",
    "x_train, x_test, y_train, y_test = train_test_split(x,y, test_size=0.2, random_state=43)"
   ]
  },
  {
   "cell_type": "code",
   "execution_count": 3,
   "id": "e448a4a6",
   "metadata": {},
   "outputs": [],
   "source": [
    "new  = []\n",
    "new2 = []\n",
    "new3  = []\n",
    "new4 = []\n",
    "\n",
    "#converting the 64-bit into an array with 64 items \n",
    "for i in range(len(x_train)):\n",
    "    new.append(list(map(int,x_train[i])))\n",
    "    new2.append(list(map(int,y_train[i])))\n",
    "\n",
    "for j in range(len(x_test)):\n",
    "    new3.append(list(map(int,x_test[j])))\n",
    "    new4.append(list(map(int,y_test[j])))\n",
    "\n",
    "x_train = np.asarray(new).astype(int)\n",
    "y_train = np.asarray(new2).astype(int)\n",
    "x_test = np.asarray(new3).astype(int)\n",
    "y_test = np.asarray(new4).astype(int)\n"
   ]
  },
  {
   "cell_type": "code",
   "execution_count": 4,
   "id": "c6613a29",
   "metadata": {},
   "outputs": [],
   "source": [
    "from sklearn.preprocessing import StandardScaler  \n",
    "scaler = StandardScaler()  \n",
    "# Don't cheat - fit only on training data\n",
    "scaler.fit(x_train)  \n",
    "x_train = scaler.transform(x_train)  \n",
    "# apply same transformation to test data\n",
    "x_test = scaler.transform(x_test)\n",
    "x_test = scaler.transform(y_test)"
   ]
  },
  {
   "cell_type": "code",
   "execution_count": 5,
   "id": "15132b76",
   "metadata": {},
   "outputs": [],
   "source": [
    "#classificiation for True Negative, True Positive, False Negative & False Positive\n",
    "def classfication(predictions):\n",
    "    TN = 0\n",
    "    TP = 0\n",
    "    FN = 0\n",
    "    FP = 0\n",
    "\n",
    "    for i in range(len(predictions)):\n",
    "        for j in range (len(predictions[i])):\n",
    "            if predictions[i][j] == 0 and y_test[i][j] == 0:\n",
    "                TN = TN + 1\n",
    "            elif predictions[i][j] == 1 and y_test[i][j] == 1:\n",
    "                TP = TP + 1\n",
    "            elif predictions[i][j] == 0 and y_test[i][j] == 1:\n",
    "                FN = FN + 1\n",
    "            elif predictions[i][j] == 1 and y_test[i][j] == 0:\n",
    "                FP = FP + 1\n",
    "    \n",
    "    return TN,TP,FN,FP\n",
    "\n",
    "#Metrics for evaluation\n",
    "def metrics (TN,TP,FN,FP):\n",
    "    accuracy = (TP+TN)/(TP+TN+FP+FN)\n",
    "    recall = (TP)/(TP+FN)\n",
    "    precision = (TP)/(TP+FP)\n",
    "    f1 =  (2*(precision*recall))/(precision + recall)\n",
    "\n",
    "    return accuracy,recall,precision,f1"
   ]
  },
  {
   "cell_type": "code",
   "execution_count": 6,
   "id": "cb49b2d6",
   "metadata": {},
   "outputs": [
    {
     "name": "stdout",
     "output_type": "stream",
     "text": [
      "Iteration 1, loss = 27.46934674\n"
     ]
    },
    {
     "name": "stderr",
     "output_type": "stream",
     "text": [
      "/Users/jerrywu/miniforge3/envs/mlp/lib/python3.8/site-packages/sklearn/neural_network/_multilayer_perceptron.py:702: ConvergenceWarning: Stochastic Optimizer: Maximum iterations (1) reached and the optimization hasn't converged yet.\n",
      "  warnings.warn(\n"
     ]
    },
    {
     "name": "stdout",
     "output_type": "stream",
     "text": [
      "Iteration 2, loss = 27.09565725\n"
     ]
    }
   ],
   "source": [
    "mlp = MLPClassifier(hidden_layer_sizes=(256,512,512,256), \n",
    "                    max_iter=1,\n",
    "                    activation = \"relu\",\n",
    "                    verbose = True,\n",
    "                    solver = \"adam\",\n",
    "                    random_state= 60,\n",
    "                    tol=0.00005,\n",
    "                    learning_rate = 'adaptive',)\n",
    "\n",
    "\n",
    "accuracy = []\n",
    "precision = []\n",
    "recall = []\n",
    "hloss = []\n",
    "loss = []\n",
    "f1_score = []\n",
    "mcc= []\n",
    "\n",
    "mlp.fit(x_train, y_train)\n",
    "dump(mlp, 'predictor.joblib')\n",
    "for i in range (3):\n",
    "    mlp = load('predictor.joblib')\n",
    "    mlp.partial_fit(x_train, y_train)\n",
    "    predictions = mlp.predict(x_test)\n",
    "    TN,TP,FN,FP = classfication(predictions)\n",
    "    acc,rec,prec,f1 =  metrics(TN,TP,FN,FP)\n",
    "    accuracy.append(round(acc,3))\n",
    "    precision.append(round(prec,3))\n",
    "    recall.append(round(rec,3))\n",
    "    hloss.append(round(hamming_loss(y_test,predictions),3))\n",
    "    loss.append(round(mlp.loss_,3))\n",
    "    f1_score.append(round(f1,3))\n",
    "    dump(mlp, 'predictor.joblib')\n",
    "    #print(classification_report(y_test,predictions,zero_division=1))"
   ]
  },
  {
   "cell_type": "code",
   "execution_count": 18,
   "id": "dfae8f27",
   "metadata": {},
   "outputs": [
    {
     "name": "stdout",
     "output_type": "stream",
     "text": [
      "[0.752, 0.751, 0.751]\n",
      "[0.786, 0.778, 0.777]\n",
      "[0.727, 0.736, 0.738]\n",
      "[0.248, 0.249, 0.249]\n",
      "[27.096, 27.032, 26.957]\n",
      "[0.755, 0.757, 0.757]\n"
     ]
    }
   ],
   "source": [
    "print(accuracy)\n",
    "print(precision)\n",
    "print(recall)\n",
    "print(hloss)\n",
    "print(loss)\n",
    "print(f1_score)"
   ]
  },
  {
   "cell_type": "code",
   "execution_count": 20,
   "id": "bba56087",
   "metadata": {},
   "outputs": [
    {
     "data": {
      "image/png": "[encoded data removed]",
      "text/plain": [
       "<Figure size 720x504 with 2 Axes>"
      ]
     },
     "metadata": {},
     "output_type": "display_data"
    }
   ],
   "source": [
    "#confusion matrix graphing\n",
    "cf_matrix = [TP,FP,FN,TN]\n",
    "\n",
    "group_names = ['True Neg','False Pos','False Neg','True Pos']\n",
    "group_counts = [\"{0:0.0f}\".format(value) for value in cf_matrix]\n",
    "group_percentages = [\"{0:.2%}\".format(value) for value in cf_matrix/np.sum(cf_matrix)]\n",
    "labels = [f\"{v1}\\n{v2}\\n{v3}\" for v1, v2, v3 in zip(group_names,group_counts,group_percentages)]\n",
    "labels = np.asarray(labels).reshape(2,2)\n",
    "\n",
    "cf_matrix = [[TP,FP],[FN,TN]]\n",
    "plt.figure(figsize = (10,7))\n",
    "sn.heatmap(cf_matrix, annot=labels, fmt='', cmap='Blues')\n",
    "plt.savefig(os.path.join(sys.path[0],'confusion matrix.png'))"
   ]
  }
 ],
 "metadata": {
  "kernelspec": {
   "display_name": "Python 3.8.13 ('mlp')",
   "language": "python",
   "name": "python3"
  },
  "language_info": {
   "codemirror_mode": {
    "name": "ipython",
    "version": 3
   },
   "file_extension": ".py",
   "mimetype": "text/x-python",
   "name": "python",
   "nbconvert_exporter": "python",
   "pygments_lexer": "ipython3",
   "version": "3.8.13"
  },
  "vscode": {
   "interpreter": {
    "hash": "93e583137a0f14c290467cebcfe5e426055eea346434718f1ad141c050cc5afb"
   }
  }
 },
 "nbformat": 4,
 "nbformat_minor": 5
}
